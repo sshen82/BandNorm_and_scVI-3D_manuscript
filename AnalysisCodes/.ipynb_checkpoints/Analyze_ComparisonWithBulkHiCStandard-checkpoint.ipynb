{
 "cells": [
  {
   "cell_type": "markdown",
   "metadata": {},
   "source": [
    "## This code is used to bulkify all the data from different sources."
   ]
  },
  {
   "cell_type": "code",
   "execution_count": 3,
   "metadata": {
    "scrolled": true,
    "vscode": {
     "languageId": "r"
    }
   },
   "outputs": [
    {
     "name": "stderr",
     "output_type": "stream",
     "text": [
      "\u001b[1m\u001b[22m`summarise()` has grouped output by 'binA', 'binB'. You can override using the `.groups` argument.\n",
      "\u001b[1m\u001b[22m`summarise()` has grouped output by 'binA', 'binB'. You can override using the `.groups` argument.\n",
      "\u001b[1m\u001b[22m`summarise()` has grouped output by 'binA', 'binB'. You can override using the `.groups` argument.\n",
      "\u001b[1m\u001b[22m`summarise()` has grouped output by 'binA', 'binB'. You can override using the `.groups` argument.\n",
      "\u001b[1m\u001b[22m`summarise()` has grouped output by 'binA', 'binB'. You can override using the `.groups` argument.\n",
      "\u001b[1m\u001b[22m`summarise()` has grouped output by 'binA', 'binB'. You can override using the `.groups` argument.\n",
      "\u001b[1m\u001b[22m`summarise()` has grouped output by 'binA', 'binB'. You can override using the `.groups` argument.\n",
      "\u001b[1m\u001b[22m`summarise()` has grouped output by 'binA', 'binB'. You can override using the `.groups` argument.\n",
      "\u001b[1m\u001b[22m`summarise()` has grouped output by 'binA', 'binB'. You can override using the `.groups` argument.\n",
      "\u001b[1m\u001b[22m`summarise()` has grouped output by 'binA', 'binB'. You can override using the `.groups` argument.\n",
      "\u001b[1m\u001b[22m`summarise()` has grouped output by 'binA', 'binB'. You can override using the `.groups` argument.\n",
      "\u001b[1m\u001b[22m`summarise()` has grouped output by 'binA', 'binB'. You can override using the `.groups` argument.\n",
      "\u001b[1m\u001b[22m`summarise()` has grouped output by 'binA', 'binB'. You can override using the `.groups` argument.\n",
      "\u001b[1m\u001b[22m`summarise()` has grouped output by 'binA', 'binB'. You can override using the `.groups` argument.\n",
      "\u001b[1m\u001b[22m`summarise()` has grouped output by 'binA', 'binB'. You can override using the `.groups` argument.\n",
      "\u001b[1m\u001b[22m`summarise()` has grouped output by 'binA', 'binB'. You can override using the `.groups` argument.\n",
      "\u001b[1m\u001b[22m`summarise()` has grouped output by 'binA', 'binB'. You can override using the `.groups` argument.\n",
      "\u001b[1m\u001b[22m`summarise()` has grouped output by 'binA', 'binB'. You can override using the `.groups` argument.\n",
      "\u001b[1m\u001b[22m`summarise()` has grouped output by 'binA', 'binB'. You can override using the `.groups` argument.\n",
      "\u001b[1m\u001b[22m`summarise()` has grouped output by 'binA', 'binB'. You can override using the `.groups` argument.\n",
      "\u001b[1m\u001b[22m`summarise()` has grouped output by 'binA', 'binB'. You can override using the `.groups` argument.\n",
      "\u001b[1m\u001b[22m`summarise()` has grouped output by 'binA', 'binB'. You can override using the `.groups` argument.\n",
      "\u001b[1m\u001b[22m`summarise()` has grouped output by 'binA', 'binB'. You can override using the `.groups` argument.\n",
      "\u001b[1m\u001b[22m`summarise()` has grouped output by 'binA', 'binB'. You can override using the `.groups` argument.\n",
      "\u001b[1m\u001b[22m`summarise()` has grouped output by 'binA', 'binB'. You can override using the `.groups` argument.\n",
      "\u001b[1m\u001b[22m`summarise()` has grouped output by 'binA', 'binB'. You can override using the `.groups` argument.\n",
      "\u001b[1m\u001b[22m`summarise()` has grouped output by 'binA', 'binB'. You can override using the `.groups` argument.\n",
      "\u001b[1m\u001b[22m`summarise()` has grouped output by 'binA', 'binB'. You can override using the `.groups` argument.\n",
      "\u001b[1m\u001b[22m`summarise()` has grouped output by 'binA', 'binB'. You can override using the `.groups` argument.\n",
      "\u001b[1m\u001b[22m`summarise()` has grouped output by 'binA', 'binB'. You can override using the `.groups` argument.\n",
      "\u001b[1m\u001b[22m`summarise()` has grouped output by 'binA', 'binB'. You can override using the `.groups` argument.\n",
      "\u001b[1m\u001b[22m`summarise()` has grouped output by 'binA', 'binB'. You can override using the `.groups` argument.\n",
      "\u001b[1m\u001b[22m`summarise()` has grouped output by 'binA', 'binB'. You can override using the `.groups` argument.\n",
      "\u001b[1m\u001b[22m`summarise()` has grouped output by 'binA', 'binB'. You can override using the `.groups` argument.\n",
      "\u001b[1m\u001b[22m`summarise()` has grouped output by 'binA', 'binB'. You can override using the `.groups` argument.\n",
      "\u001b[1m\u001b[22m`summarise()` has grouped output by 'binA', 'binB'. You can override using the `.groups` argument.\n",
      "\u001b[1m\u001b[22m`summarise()` has grouped output by 'binA', 'binB'. You can override using the `.groups` argument.\n",
      "\u001b[1m\u001b[22m`summarise()` has grouped output by 'binA', 'binB'. You can override using the `.groups` argument.\n",
      "\u001b[1m\u001b[22m`summarise()` has grouped output by 'binA', 'binB'. You can override using the `.groups` argument.\n",
      "\u001b[1m\u001b[22m`summarise()` has grouped output by 'binA', 'binB'. You can override using the `.groups` argument.\n",
      "\u001b[1m\u001b[22m`summarise()` has grouped output by 'binA', 'binB'. You can override using the `.groups` argument.\n",
      "\u001b[1m\u001b[22m`summarise()` has grouped output by 'binA', 'binB'. You can override using the `.groups` argument.\n",
      "\u001b[1m\u001b[22m`summarise()` has grouped output by 'binA', 'binB'. You can override using the `.groups` argument.\n",
      "\u001b[1m\u001b[22m`summarise()` has grouped output by 'binA', 'binB'. You can override using the `.groups` argument.\n",
      "\u001b[1m\u001b[22m`summarise()` has grouped output by 'binA', 'binB'. You can override using the `.groups` argument.\n",
      "\u001b[1m\u001b[22m`summarise()` has grouped output by 'binA', 'binB'. You can override using the `.groups` argument.\n",
      "\u001b[1m\u001b[22m`summarise()` has grouped output by 'binA', 'binB'. You can override using the `.groups` argument.\n",
      "\u001b[1m\u001b[22m`summarise()` has grouped output by 'binA', 'binB'. You can override using the `.groups` argument.\n",
      "\u001b[1m\u001b[22m`summarise()` has grouped output by 'binA', 'binB'. You can override using the `.groups` argument.\n",
      "\u001b[1m\u001b[22m`summarise()` has grouped output by 'binA', 'binB'. You can override using the `.groups` argument.\n",
      "\u001b[1m\u001b[22m`summarise()` has grouped output by 'binA', 'binB'. You can override using the `.groups` argument.\n",
      "\u001b[1m\u001b[22m`summarise()` has grouped output by 'binA', 'binB'. You can override using the `.groups` argument.\n",
      "\u001b[1m\u001b[22m`summarise()` has grouped output by 'binA', 'binB'. You can override using the `.groups` argument.\n",
      "\u001b[1m\u001b[22m`summarise()` has grouped output by 'binA', 'binB'. You can override using the `.groups` argument.\n",
      "\u001b[1m\u001b[22m`summarise()` has grouped output by 'binA', 'binB'. You can override using the `.groups` argument.\n",
      "\u001b[1m\u001b[22m`summarise()` has grouped output by 'binA', 'binB'. You can override using the `.groups` argument.\n",
      "\u001b[1m\u001b[22m`summarise()` has grouped output by 'binA', 'binB'. You can override using the `.groups` argument.\n",
      "\u001b[1m\u001b[22m`summarise()` has grouped output by 'binA', 'binB'. You can override using the `.groups` argument.\n",
      "\u001b[1m\u001b[22m`summarise()` has grouped output by 'binA', 'binB'. You can override using the `.groups` argument.\n",
      "\u001b[1m\u001b[22m`summarise()` has grouped output by 'binA', 'binB'. You can override using the `.groups` argument.\n",
      "\u001b[1m\u001b[22m`summarise()` has grouped output by 'binA', 'binB'. You can override using the `.groups` argument.\n",
      "\u001b[1m\u001b[22m`summarise()` has grouped output by 'binA', 'binB'. You can override using the `.groups` argument.\n",
      "\u001b[1m\u001b[22m`summarise()` has grouped output by 'binA', 'binB'. You can override using the `.groups` argument.\n",
      "\u001b[1m\u001b[22m`summarise()` has grouped output by 'binA', 'binB'. You can override using the `.groups` argument.\n",
      "\u001b[1m\u001b[22m`summarise()` has grouped output by 'binA', 'binB'. You can override using the `.groups` argument.\n",
      "\u001b[1m\u001b[22m`summarise()` has grouped output by 'binA', 'binB'. You can override using the `.groups` argument.\n",
      "\u001b[1m\u001b[22m`summarise()` has grouped output by 'binA', 'binB'. You can override using the `.groups` argument.\n",
      "\u001b[1m\u001b[22m`summarise()` has grouped output by 'binA', 'binB'. You can override using the `.groups` argument.\n",
      "\u001b[1m\u001b[22m`summarise()` has grouped output by 'binA', 'binB'. You can override using the `.groups` argument.\n",
      "\u001b[1m\u001b[22m`summarise()` has grouped output by 'binA', 'binB'. You can override using the `.groups` argument.\n",
      "\u001b[1m\u001b[22m`summarise()` has grouped output by 'binA', 'binB'. You can override using the `.groups` argument.\n",
      "\u001b[1m\u001b[22m`summarise()` has grouped output by 'binA', 'binB'. You can override using the `.groups` argument.\n",
      "\u001b[1m\u001b[22m`summarise()` has grouped output by 'binA', 'binB'. You can override using the `.groups` argument.\n",
      "\u001b[1m\u001b[22m`summarise()` has grouped output by 'binA', 'binB'. You can override using the `.groups` argument.\n",
      "\u001b[1m\u001b[22m`summarise()` has grouped output by 'binA', 'binB'. You can override using the `.groups` argument.\n",
      "\u001b[1m\u001b[22m`summarise()` has grouped output by 'binA', 'binB'. You can override using the `.groups` argument.\n",
      "\u001b[1m\u001b[22m`summarise()` has grouped output by 'binA', 'binB'. You can override using the `.groups` argument.\n",
      "\u001b[1m\u001b[22m`summarise()` has grouped output by 'binA', 'binB'. You can override using the `.groups` argument.\n",
      "\u001b[1m\u001b[22m`summarise()` has grouped output by 'binA', 'binB'. You can override using the `.groups` argument.\n",
      "\u001b[1m\u001b[22m`summarise()` has grouped output by 'binA', 'binB'. You can override using the `.groups` argument.\n",
      "\u001b[1m\u001b[22m`summarise()` has grouped output by 'binA', 'binB'. You can override using the `.groups` argument.\n",
      "\u001b[1m\u001b[22m`summarise()` has grouped output by 'binA', 'binB'. You can override using the `.groups` argument.\n",
      "\u001b[1m\u001b[22m`summarise()` has grouped output by 'binA', 'binB'. You can override using the `.groups` argument.\n",
      "\u001b[1m\u001b[22m`summarise()` has grouped output by 'binA', 'binB'. You can override using the `.groups` argument.\n",
      "\u001b[1m\u001b[22m`summarise()` has grouped output by 'binA', 'binB'. You can override using the `.groups` argument.\n",
      "\u001b[1m\u001b[22m`summarise()` has grouped output by 'binA', 'binB'. You can override using the `.groups` argument.\n",
      "\u001b[1m\u001b[22m`summarise()` has grouped output by 'binA', 'binB'. You can override using the `.groups` argument.\n",
      "\u001b[1m\u001b[22m`summarise()` has grouped output by 'binA', 'binB'. You can override using the `.groups` argument.\n",
      "\u001b[1m\u001b[22m`summarise()` has grouped output by 'binA', 'binB'. You can override using the `.groups` argument.\n",
      "\u001b[1m\u001b[22m`summarise()` has grouped output by 'binA', 'binB'. You can override using the `.groups` argument.\n",
      "\u001b[1m\u001b[22m`summarise()` has grouped output by 'binA', 'binB'. You can override using the `.groups` argument.\n",
      "\u001b[1m\u001b[22m`summarise()` has grouped output by 'binA', 'binB'. You can override using the `.groups` argument.\n",
      "\u001b[1m\u001b[22m`summarise()` has grouped output by 'binA', 'binB'. You can override using the `.groups` argument.\n",
      "\u001b[1m\u001b[22m`summarise()` has grouped output by 'binA', 'binB'. You can override using the `.groups` argument.\n",
      "\u001b[1m\u001b[22m`summarise()` has grouped output by 'binA', 'binB'. You can override using the `.groups` argument.\n",
      "\u001b[1m\u001b[22m`summarise()` has grouped output by 'binA', 'binB'. You can override using the `.groups` argument.\n",
      "\u001b[1m\u001b[22m`summarise()` has grouped output by 'binA', 'binB'. You can override using the `.groups` argument.\n",
      "\u001b[1m\u001b[22m`summarise()` has grouped output by 'binA', 'binB'. You can override using the `.groups` argument.\n",
      "\u001b[1m\u001b[22m`summarise()` has grouped output by 'binA', 'binB'. You can override using the `.groups` argument.\n",
      "\u001b[1m\u001b[22m`summarise()` has grouped output by 'binA', 'binB'. You can override using the `.groups` argument.\n",
      "\u001b[1m\u001b[22m`summarise()` has grouped output by 'binA', 'binB'. You can override using the `.groups` argument.\n",
      "\u001b[1m\u001b[22m`summarise()` has grouped output by 'binA', 'binB'. You can override using the `.groups` argument.\n",
      "\u001b[1m\u001b[22m`summarise()` has grouped output by 'binA', 'binB'. You can override using the `.groups` argument.\n",
      "\u001b[1m\u001b[22m`summarise()` has grouped output by 'binA', 'binB'. You can override using the `.groups` argument.\n",
      "\u001b[1m\u001b[22m`summarise()` has grouped output by 'binA', 'binB'. You can override using the `.groups` argument.\n",
      "\u001b[1m\u001b[22m`summarise()` has grouped output by 'binA', 'binB'. You can override using the `.groups` argument.\n",
      "\u001b[1m\u001b[22m`summarise()` has grouped output by 'binA', 'binB'. You can override using the `.groups` argument.\n",
      "\u001b[1m\u001b[22m`summarise()` has grouped output by 'binA', 'binB'. You can override using the `.groups` argument.\n",
      "\u001b[1m\u001b[22m`summarise()` has grouped output by 'binA', 'binB'. You can override using the `.groups` argument.\n",
      "\u001b[1m\u001b[22m`summarise()` has grouped output by 'binA', 'binB'. You can override using the `.groups` argument.\n",
      "\u001b[1m\u001b[22m`summarise()` has grouped output by 'binA', 'binB'. You can override using the `.groups` argument.\n",
      "\u001b[1m\u001b[22m`summarise()` has grouped output by 'binA', 'binB'. You can override using the `.groups` argument.\n",
      "\u001b[1m\u001b[22m`summarise()` has grouped output by 'binA', 'binB'. You can override using the `.groups` argument.\n",
      "\u001b[1m\u001b[22m`summarise()` has grouped output by 'binA', 'binB'. You can override using the `.groups` argument.\n",
      "\u001b[1m\u001b[22m`summarise()` has grouped output by 'binA', 'binB'. You can override using the `.groups` argument.\n"
     ]
    }
   ],
   "source": [
    "library(rhdf5)\n",
    "library(dplyr)\n",
    "library(Matrix)\n",
    "library(mgcv)\n",
    "library(data.table)\n",
    "\n",
    "for (chr in c(1:22, \"X\")){\n",
    "    higashi_summary = fread(\"/p/keles/schic/volumeA/Duan2020/duan2020_summary.txt\")\n",
    "    cells = paste(\"cell_\", 0:9229, sep = \"\")\n",
    "    agg = c()\n",
    "    for (k in 1:length(unique(higashi_summary$cell_type))){\n",
    "        values = rep(0, length(h5read(paste0(\"/p/keles/schic/volumeA/Duan2020/higashi11132021/temp/chr\", chr, \"_duan_embed_nbr_3_impute.hdf5\"), cells[1])))\n",
    "        for (i in 1:9230){\n",
    "            if (higashi_summary$cell_type[i] == unique(higashi_summary$cell_type)[k]){\n",
    "                values = values + h5read(paste0(\"/p/keles/schic/volumeA/Duan2020/higashi11132021/temp/chr\", chr, \"_duan_embed_nbr_3_impute.hdf5\"), cells[i])\n",
    "            }\n",
    "        }\n",
    "        temp = cbind(t(h5read(paste0(\"/p/keles/schic/volumeA/Duan2020/higashi11132021/temp/chr\", chr, \"_duan_embed_nbr_3_impute.hdf5\"), \"coordinates\")),\n",
    "              values)\n",
    "        temp = cbind(temp, unique(higashi_summary$cell_type)[k])\n",
    "        temp = data.frame(temp)\n",
    "        temp = temp %>% mutate_at(c(\"V1\", \"V2\", \"values\"), as.numeric) %>% \n",
    "        rename(binA = V1, binB = V2, count = values, cluster = V4) %>% \n",
    "        mutate(binA = binA * 1000000, binB = binB * 1000000) %>% mutate(agg = count)\n",
    "        agg = rbind(agg, temp)\n",
    "        agg = agg %>% group_by(binA, binB, cluster) %>% summarise(agg = sum(agg))\n",
    "    }\n",
    "    saveRDS(agg, file = paste0(\"/p/keles/schic/volumeC/SiqiShen/code/BandNormPaper/pseudoBulk/higashi_Kim2020chr\", chr, \".rds\"))\n",
    "}\n"
   ]
  },
  {
   "cell_type": "code",
   "execution_count": 4,
   "metadata": {
    "vscode": {
     "languageId": "r"
    }
   },
   "outputs": [],
   "source": [
    "for (chr in c(1:22, \"X\")){\n",
    "    agg = readRDS(paste0(\"/p/keles/schic/volumeC/SiqiShen/code/BandNormPaper/pseudoBulk/higashi_Kim2020chr\", chr, \".rds\"))\n",
    "    options(scipen = 9)\n",
    "    agg$chrA = paste0(\"chr\", chr)\n",
    "    agg$chrB = paste0(\"chr\", chr)\n",
    "    clusters = c(\"GM12878\", \"H1Esc\", \"HAP1\", \"HFF\", \"IMR90\")\n",
    "    for (i in 1:length(clusters)){\n",
    "        aggs = agg[agg$cluster == clusters[i], ]\n",
    "        aggs = data.frame(0, aggs$chrA, aggs$binA, 0, 1, aggs$chrB, aggs$binB, 1, aggs$agg)\n",
    "        write.table(aggs, file = paste0(\"/p/keles/schic/volumeC/SiqiShen/code/BandNormPaper/pseudoBulk/higashi_\", \n",
    "                                        clusters[i], \"chr\", chr, \".bed\"), row.names = FALSE,\n",
    "                    col.names = FALSE, quote = FALSE, sep = \"\\t\")\n",
    "    }\n",
    "}"
   ]
  },
  {
   "cell_type": "code",
   "execution_count": 5,
   "metadata": {
    "vscode": {
     "languageId": "r"
    }
   },
   "outputs": [],
   "source": [
    "for (chr in c(1:22, \"X\")){\n",
    "    clusters2 = paste0(clusters, \"chr\", chr)\n",
    "    for(i in 1:length(clusters)){\n",
    "      convert_bam_to_wig <- sprintf(\"java -jar /u/s/s/sshen82/Rfile/juicerdir/scripts/common/juicer_tools.jar pre -r 1000000 /p/keles/schic/volumeC/SiqiShen/code/BandNormPaper/pseudoBulk/higashi_%s.bed /p/keles/schic/volumeC/SiqiShen/code/BandNormPaper/pseudoBulk/higashi_%s.hic /u/s/s/sshen82/Rfile/juicerdir/references/hg19.chrom.sizes\",\n",
    "                                    clusters2[i], clusters2[i])\n",
    "      #print(convert_bam_to_wig)\n",
    "      system(convert_bam_to_wig)\n",
    "    }\n",
    "}"
   ]
  },
  {
   "cell_type": "code",
   "execution_count": 11,
   "metadata": {
    "vscode": {
     "languageId": "r"
    }
   },
   "outputs": [],
   "source": [
    "library(data.table)\n",
    "library(Matrix)\n",
    "library(stringr)\n",
    "clusters = c(\"GM12878\", \"H1Esc\", \"HAP1\", \"HFF\", \"IMR90\")\n",
    "for (j in c(1:22, \"X\")){\n",
    "    agg = c()\n",
    "    for (i in 1:length(clusters)){\n",
    "        hic_mat = as.matrix(fread(paste0(\"/p/keles/schic/volumeA/Duan2020/schicluster1mbBulk/\", clusters[i], \"_chr\", j, \".txt\")))\n",
    "        hic_mat[lower.tri(hic_mat)] = 0\n",
    "        output = as(hic_mat, \"dgTMatrix\")\n",
    "        output = data.frame(binA = output@i * 1000000, binB = output@j * 1000000, \n",
    "                            cluster = clusters[i], agg = output@x) \n",
    "        agg = rbind(agg, output)\n",
    "    }\n",
    "    saveRDS(agg, file = paste0(\"/p/keles/schic/volumeC/SiqiShen/code/BandNormPaper/pseudoBulk/schicluster_Kim2020chr\", j, \".rds\"))\n",
    "}\n"
   ]
  },
  {
   "cell_type": "code",
   "execution_count": 12,
   "metadata": {
    "vscode": {
     "languageId": "r"
    }
   },
   "outputs": [],
   "source": [
    "for (chr in c(1:22, \"X\")){\n",
    "    agg = readRDS(paste0(\"/p/keles/schic/volumeC/SiqiShen/code/BandNormPaper/pseudoBulk/schicluster_Kim2020chr\", chr, \".rds\"))\n",
    "    options(scipen = 9)\n",
    "    agg$chrA = paste0(\"chr\", chr)\n",
    "    agg$chrB = paste0(\"chr\", chr)\n",
    "    clusters = c(\"GM12878\", \"H1Esc\", \"HAP1\", \"HFF\", \"IMR90\")\n",
    "    for (i in 1:length(clusters)){\n",
    "        aggs = agg[agg$cluster == clusters[i], ]\n",
    "        aggs = data.frame(0, aggs$chrA, aggs$binA, 0, 1, aggs$chrB, aggs$binB, 1, aggs$agg)\n",
    "        write.table(aggs, file = paste0(\"/p/keles/schic/volumeC/SiqiShen/code/BandNormPaper/pseudoBulk/schicluster_\", \n",
    "                                        clusters[i], \"chr\", chr, \".bed\"), row.names = FALSE,\n",
    "                    col.names = FALSE, quote = FALSE, sep = \"\\t\")\n",
    "    }\n",
    "}"
   ]
  },
  {
   "cell_type": "code",
   "execution_count": 13,
   "metadata": {
    "vscode": {
     "languageId": "r"
    }
   },
   "outputs": [],
   "source": [
    "for (chr in c(1:22, \"X\")){\n",
    "    clusters2 = paste0(clusters, \"chr\", chr)\n",
    "    for(i in 1:length(clusters)){\n",
    "      convert_bam_to_wig <- sprintf(\"java -jar /u/s/s/sshen82/Rfile/juicerdir/scripts/common/juicer_tools.jar pre -r 1000000 /p/keles/schic/volumeC/SiqiShen/code/BandNormPaper/pseudoBulk/schicluster_%s.bed /p/keles/schic/volumeC/SiqiShen/code/BandNormPaper/pseudoBulk/schicluster_%s.hic /u/s/s/sshen82/Rfile/juicerdir/references/hg19.chrom.sizes\",\n",
    "                                    clusters2[i], clusters2[i])\n",
    "      #print(convert_bam_to_wig)\n",
    "      system(convert_bam_to_wig)\n",
    "    }\n",
    "}"
   ]
  },
  {
   "cell_type": "code",
   "execution_count": null,
   "metadata": {
    "vscode": {
     "languageId": "r"
    }
   },
   "outputs": [],
   "source": [
    "library(rhdf5)\n",
    "library(dplyr)\n",
    "library(Matrix)\n",
    "library(mgcv)\n",
    "library(data.table)\n",
    "\n",
    "for (chr in c(1:22, \"X\")){\n",
    "    higashi_summary = fread(\"/p/keles/schic/volumeA/Ecker2019/human/Ecker2019_summary.txt\")\n",
    "    cells = paste(\"cell_\", 0:4237, sep = \"\")\n",
    "    agg = c()\n",
    "    for (k in 1:length(unique(higashi_summary$cell_type))){\n",
    "        values = rep(0, length(h5read(paste0(\"/p/keles/schic/volumeD/Ecker2019/ProcessedData/higashi11132021/temp/chr\", chr, \"_ecker_embed_nbr_5_impute.hdf5\"), cells[1])))\n",
    "        for (i in 1:4238){\n",
    "            if (higashi_summary$cell_type[i] == unique(higashi_summary$cell_type)[k]){\n",
    "                values = values + h5read(paste0(\"/p/keles/schic/volumeD/Ecker2019/ProcessedData/higashi11132021/temp/chr\", chr, \"_ecker_embed_nbr_5_impute.hdf5\"), cells[i])\n",
    "            }\n",
    "        }\n",
    "        temp = cbind(t(h5read(paste0(\"/p/keles/schic/volumeD/Ecker2019/ProcessedData/higashi11132021/temp/chr\", chr, \"_ecker_embed_nbr_5_impute.hdf5\"), \"coordinates\")),\n",
    "              values)\n",
    "        temp = cbind(temp, unique(higashi_summary$cell_type)[k])\n",
    "        temp = data.frame(temp)\n",
    "        temp = temp %>% mutate_at(c(\"V1\", \"V2\", \"values\"), as.numeric) %>% \n",
    "        rename(binA = V1, binB = V2, count = values, cluster = V4) %>% \n",
    "        mutate(binA = binA * 1000000, binB = binB * 1000000) %>% mutate(agg = count)\n",
    "        agg = rbind(agg, temp)\n",
    "        agg = agg %>% group_by(binA, binB, cluster) %>% summarise(agg = sum(agg))\n",
    "    }\n",
    "    saveRDS(agg, file = paste0(\"/p/keles/schic/volumeC/SiqiShen/code/BandNormPaper/pseudoBulk/higashi_Lee2019chr\", chr, \".rds\"))\n",
    "}\n",
    "\n",
    "library(data.table)\n",
    "library(Matrix)\n",
    "library(stringr)\n",
    "clusters = c(\"Astro\", \"Endo\", \"L23\", \"L4\", \"L5\", \"L6\", \"MG\", \"MP\", \"Ndnf\", \"ODC\", \"OPC\", \"Pvalb\", \"Sst\", \"Vip\")\n",
    "for (j in c(1:22, \"X\")){\n",
    "    agg = c()\n",
    "    for (i in 1:length(clusters)){\n",
    "        hic_mat = as.matrix(fread(paste0(\"/p/keles/schic/volumeA/Ecker2019/human/schicluster1mbBulk/\", clusters[i], \"_chr\", j, \".txt\")))\n",
    "        hic_mat[lower.tri(hic_mat)] = 0\n",
    "        output = as(hic_mat, \"dgTMatrix\")\n",
    "        output = data.frame(binA = output@i * 1000000, binB = output@j * 1000000, \n",
    "                            cluster = clusters[i], agg = output@x) \n",
    "        agg = rbind(agg, output)\n",
    "    }\n",
    "    saveRDS(agg, file = paste0(\"/p/keles/schic/volumeC/SiqiShen/code/BandNormPaper/pseudoBulk/schicluster_Lee2019chr\", j, \".rds\"))\n",
    "}"
   ]
  },
  {
   "cell_type": "code",
   "execution_count": 10,
   "metadata": {
    "vscode": {
     "languageId": "r"
    }
   },
   "outputs": [],
   "source": [
    "clusters = c(\"GM12878\", \"H1Esc\", \"HAP1\", \"HFF\", \"IMR90\")\n",
    "for (i in 1:length(clusters)){\n",
    "    tempCluster = c()\n",
    "    for (chr in c(1:22, \"X\")){\n",
    "            write.table(fread(paste0(\"/p/keles/schic/volumeC/SiqiShen/code/BandNormPaper/pseudoBulk/higashi_\", \n",
    "            clusters[i], \"chr\", chr, \".bed\"))[, c(2, 3, 6, 7, 9)], \n",
    "                        file = paste0(\"/p/keles/schic/volumeC/SiqiShen/code/BandNormPaper/binpair/higashi_\", \n",
    "                                clusters[i], \"_chr\", chr, \".binPair\"), row.names = FALSE,\n",
    "            col.names = FALSE, quote = FALSE, sep = \"\\t\")\n",
    "    }\n",
    "}\n",
    "\n",
    "for (i in 1:length(clusters)){\n",
    "    for (chr in c(1:22, \"X\")){\n",
    "        write.table(fread(paste0(\"/p/keles/schic/volumeC/SiqiShen/code/BandNormPaper/pseudoBulk/schicluster_\", \n",
    "                                        clusters[i], \"chr\", chr, \".bed\"))[, c(2, 3, 6, 7, 9)], \n",
    "                    file = paste0(\"/p/keles/schic/volumeC/SiqiShen/code/BandNormPaper/binpair/schicluster_\", \n",
    "                                        clusters[i], \"_chr\", chr, \".binPair\"), row.names = FALSE,\n",
    "                    col.names = FALSE, quote = FALSE, sep = \"\\t\")\n",
    "    }\n",
    "}"
   ]
  },
  {
   "cell_type": "code",
   "execution_count": null,
   "metadata": {
    "vscode": {
     "languageId": "r"
    }
   },
   "outputs": [],
   "source": []
  }
 ],
 "metadata": {
  "hide_input": false,
  "kernelspec": {
   "display_name": "R",
   "language": "R",
   "name": "ir"
  },
  "language_info": {
   "codemirror_mode": "r",
   "file_extension": ".r",
   "mimetype": "text/x-r-source",
   "name": "R",
   "pygments_lexer": "r",
   "version": "4.0.3"
  },
  "latex_envs": {
   "LaTeX_envs_menu_present": true,
   "autoclose": false,
   "autocomplete": true,
   "bibliofile": "biblio.bib",
   "cite_by": "apalike",
   "current_citInitial": 1,
   "eqLabelWithNumbers": true,
   "eqNumInitial": 1,
   "hotkeys": {
    "equation": "Ctrl-E",
    "itemize": "Ctrl-I"
   },
   "labels_anchors": false,
   "latex_user_defs": false,
   "report_style_numbering": false,
   "user_envs_cfg": false
  }
 },
 "nbformat": 4,
 "nbformat_minor": 5
}
